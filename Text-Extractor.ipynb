{
 "cells": [
  {
   "cell_type": "code",
   "execution_count": null,
   "id": "418a5fc5",
   "metadata": {},
   "outputs": [],
   "source": []
  },
  {
   "cell_type": "code",
   "execution_count": 1,
   "id": "0e355b7c",
   "metadata": {},
   "outputs": [],
   "source": [
    "import pymupdf\n",
    "import re"
   ]
  },
  {
   "cell_type": "code",
   "execution_count": 8,
   "id": "aa37d316",
   "metadata": {},
   "outputs": [],
   "source": [
    "def clean_text(raw_text):\n",
    "    lines = raw_text.split('\\n')\n",
    "    cleaned = []\n",
    "    for line in lines:\n",
    "        line = line.strip()\n",
    "        if not line or len(line) < 2:\n",
    "            continue\n",
    "        if re.match(r\"^\\d+$\", line):\n",
    "            continue\n",
    "        if re.match(r\"^Fig\\.\\d+\", line):\n",
    "            continue\n",
    "        cleaned.append(line)\n",
    "    return '\\n'.join(cleaned)"
   ]
  },
  {
   "cell_type": "code",
   "execution_count": 23,
   "id": "ea23d08f",
   "metadata": {},
   "outputs": [
    {
     "name": "stderr",
     "output_type": "stream",
     "text": [
      "[nltk_data] Downloading package punkt to /home/diego/nltk_data...\n",
      "[nltk_data]   Package punkt is already up-to-date!\n",
      "[nltk_data] Downloading package punkt_tab to /home/diego/nltk_data...\n",
      "[nltk_data]   Unzipping tokenizers/punkt_tab.zip.\n"
     ]
    }
   ],
   "source": [
    "import nltk\n",
    "nltk.download('punkt')\n",
    "nltk.download('punkt_tab')\n",
    "from nltk.tokenize import sent_tokenize\n",
    "\n",
    "def chunk_text(text, max_words=200, overlap=50):\n",
    "    sentences = sent_tokenize(text)\n",
    "    chunks = []\n",
    "    chunk = []\n",
    "    words = 0\n",
    "    for sent in sentences:\n",
    "        w_count = len(sent.split())\n",
    "        if words + w_count > max_words:\n",
    "            chunks.append(' '.join(chunk))\n",
    "            chunk = chunk[-overlap:]  # overlap\n",
    "            words = sum(len(s.split()) for s in chunk)\n",
    "        chunk.append(sent)\n",
    "        words += w_count\n",
    "    if chunk:\n",
    "        chunks.append(' '.join(chunk))\n",
    "    return chunks\n"
   ]
  },
  {
   "cell_type": "code",
   "execution_count": 38,
   "id": "874c276e",
   "metadata": {},
   "outputs": [],
   "source": [
    "\n",
    "examplePDF = \"course-downloads/BIS 002A/8. DNA Replication_WQ24.pdf\"\n",
    "doc = pymupdf.open(examplePDF)\n",
    "examplePDF2 = \"course-downloads/NPB 100/NPB100 04 Neurotransmitters_Signaling.pdf\"\n",
    "doc2 = pymupdf.open(examplePDF2)\n",
    "examplePDF3 = \"course-downloads/NPB 162/SQ24 - NPB 162 - Lecture 6 - Barn Owl Sound Localization I.pdf\"\n",
    "doc3 = pymupdf.open(examplePDF3)"
   ]
  },
  {
   "cell_type": "code",
   "execution_count": 33,
   "id": "f15dd081",
   "metadata": {},
   "outputs": [
    {
     "name": "stdout",
     "output_type": "stream",
     "text": [
      "[]\n",
      "['DISCUSSION 8\\nDNA REPLICATION']\n",
      "['3\\nWhat is it? Recognize the different components']\n",
      "['Difference/s between DNA and RNA?']\n",
      "['DNA vs RNA']\n",
      "['DNA or RNA nitrogenous bases?']\n",
      "[]\n",
      "['Demethylation']\n",
      "[]\n",
      "['P\\nN base\\n5’\\n3’\\nIt’s flipped \\nH\\n1\\n2\\n4']\n",
      "['Bond name? Phosphoanhydride\\nbond\\nName of new bond? Phosphodiester bond\\nReactant\\nReactant\\nProduct\\nExergonic, breaking Posphoanhy. Bond, end. Formation of Pdiester bond']\n",
      "[]\n",
      "['-Is DNA charged? -Where is the new nucleotide going \\nto be added? -Name of new bond? A\\nG\\nC\\nT\\nIn your whiteboard:\\n- Bind an incoming nucleotide (complementary to C)….….….….….']\n",
      "['The 5’ phosphate group is \\nADDED to the 3’OH group of \\nthe previous nucleotide. A\\nG\\nC\\n-Is DNA charged? -Where the new nucleotide is going \\nto be added? -Name of new bond? H\\nNegatively, P groups\\n3’ end (OH) of the last nucleotide in the growing chain\\nPhosphodiester\\nAlready had the exergonic \\nreaction in which the \\nPanhy. Bond is being \\nbroken.Condensation reac\\nH2O\\n1\\n2\\n3']\n",
      "['Phosphodiester bond formation \\nEndergonic \\n3']\n",
      "['Is DNA replication \\nsemiconservative? Why/why not']\n",
      "['DNA replication process can be \\nset into three phases:\\n1 Initiation\\n2 Elongation\\n3 Termination']\n",
      "['Origin of replication\\nSequence element on the DNA that recruits \\nthe ___replication machinery__________\\n18\\nWhat happens at the origin of replication? Initiation']\n",
      "['Is it different between eukaryotes \\nand prokaryotes? Do we have one or multiple origin/s \\nof replication?']\n",
      "[]\n",
      "[]\n",
      "['11±1\\n1 helicase, 2 primase, 3 poly3']\n",
      "['The figure below shows a DNA strand in the process of replication. A\\nB\\nC\\nReplication: Elongation\\nA leading, B lagging, C green primer (primase), red newly synthetized Strand by DNA poly3']\n",
      "['Leading strand \\nLagging strand \\nWhat happens on the lagging strand? Fig. 1\\nSince DNA poly only works 5’->3’ needs to work “backwards”. Fig.2\\nPrimers needs to be lay down by primase to have DNA poly 3 start polymerizing. Now DNA poly 3 start to synthetize in the correct direction (5’->3’)\\n3’\\n5’\\nThese are the ends we expect to see on the newly synt. strand\\nDNA poly works only 5’-> 3’\\nDNA poly working direction\\nFig.1\\nFig.2\\n3’\\n5’\\nDNA poly working direction']\n",
      "['Fig.3\\nOkazaki fragments\\nFig.3\\nThe fragments of DNA being synthetized by DNA poly 3 are called Okazaki fragments (present on the \\nlagging strand). The primers are made of RNA, they need to be removed. Fig.4\\nExonuclease activity of DNA poly 1 is going \\nto remove the RNA nucleotides and is going \\nto polymerize DNA to fill up the empty bps. (Same will happens on the newly synthetized \\nstrand on the leading strand where we have \\nthe primer/s*)\\n*']\n",
      "['Fig.5\\nLeading strand\\nLagging strand\\nFig.5\\nNow the newly synthetized strand complementary to the lagging strand is only having DNA \\nnucleotides. (In red the ones synthetized by DNA poly3, in blue the ones synthesized by DNA poly1). However, there are gaps present, we do not have the phosphodiester bond between these DNA \\nfragments. (Between the last nucleotide added by DNA pol I and the first nucleotide added by DNA \\npoly 3).']\n",
      "['nick\\nnick\\nnick']\n",
      "['Fig.6\\nFig.6 \\nThe enzyme ligase is able to seal the gaps and create the phosphodiester bond between the \\npreviously mentioned nucleotides']\n",
      "['Replicating the ends of chromosomes\\n29\\nReplication: Termination\\nLagging strand']\n",
      "[]\n",
      "['Telomerase\\nTelomerase is a unique reverse transcriptase that consists of a protein and an RNA molecule combined to form \\na ribonucleoprotein complex. The protein part is the catalytic subunit TERT (telomerase reverse transcriptase); the RNA (TR for telomerase \\nRNA, or TERC) forms a complex secondary structure and provides the antisense template for the addition of \\ntelomere base repeats. The main function of telomerase is to elongate telomeres by adding hexanucleotide repeats to the 3′ overhang \\nstrands of the telomere, thereby counteracting telomere shortening (Figure 1). Stably capped telomeres are important for maintaining genomic stability. Fig.1']\n",
      "[\"Telomerase\\nIn humans and other long-lived mammals, telomerase is switched off early during embryogenesis, so that \\nonly very few cell types express the enzyme in the adult body. Examples of cells expressing moderate telomerase levels are adult stem cells, endothelial cells (the lining of \\nblood vessels), B and T lymphocytes. It is important to note that telomerase activity is tightly regulated under normal physiological conditions. While the amount of telomerase expression in most adult cell types is not sufficient to prevent telomere \\nshortening, it can delay it. For example, telomerase activity as well as telomere length decreases in T cells of \\nthe immune system during a human's lifetime. This could be a reason for the weaker immune systems of older \\npeople. Telomerase is expressed in many, but not all, organisms. Bacteria have circular genomes and lack telomerase, but most of \\nhigher organisms express the enzyme, including plants (in growth \\ncones and reproductive organs), sponges, lobsters, and mammals. However, there are differences within taxa, including within the \\nMammalia. In humans, telomeres shorten with aging.\"]\n",
      "['Also important is that telomerase is highly expressed in human germ line cells in order to ensure that offspring \\nare born with long telomeres. Embryonic stem cells have high levels of telomerase, which is important for genomic stability during \\nproliferation and self-renewal. Telomerase is then downregulated when these cells differentiate into the \\nvarious separate tissue types. Telomerase activity and telomere maintenance are important \\nprerequisites for cellular ‘immortality,’ a state which \\ncharacterizes the vast majority of cancerous cells. In addition to \\ngermline and embryonic stem cells, high telomerase activity is \\nalso found in most cancer cells. Telomerase activity becomes constitutively upregulated during \\ndevelopment of the vast majority of tumors (Shay and Bacchetti, \\n1997) through processes that are not entirely understood. In order to provide proliferative potential to a tumor cell, \\ntelomere length must eventually be stabilized; this is most \\nfrequently achieved by telomerase activation. Most of the cancer cell types rely on high levels of telomerase for \\nproliferation. This makes telomerase an excellent target for tumor therapies \\n(see Section Telomeres and Telomerase as Targets for \\nIntervention).']\n",
      "['Human telomer has 15000-18000bp']\n",
      "['What solution does this cartoon illustrate? Replication: Termination']\n",
      "['https://www.youtube.com/watch?v=TNKWgcFPHqw\\nhttps://www.youtube.com/watch?v=nQjJvhpBIe0']\n"
     ]
    }
   ],
   "source": [
    "\n",
    "for page in doc:\n",
    "  text = page.get_text()\n",
    "  print(chunk_text(text))"
   ]
  },
  {
   "cell_type": "code",
   "execution_count": 35,
   "id": "8c0174ab",
   "metadata": {},
   "outputs": [
    {
     "name": "stdout",
     "output_type": "stream",
     "text": [
      "['Outline\\nCh.6 Neurotransmitters and Receptors\\n• types, modes of action, and removal\\n• examples of ionotropic, metabotropic receptors\\n• atypical neurotransmitters\\nCh.7 Molecular Signaling\\n• categories of signaling\\n• G-protein-coupled signaling (e.g. metabotropic \\nreceptors)\\n• making new proteins via CREB\\n© Lee M. Miller, All rights reserved\\nThis lecture may be recorded and posted on Canvas, along with audio \\nor chat messages from the instructor, TAs, or student participants.']\n",
      "['FIGURE 6.1 Examples of small-molecule and peptide neurotransmitters']\n",
      "['TABLE 6.1  Functional Features of the Major Neurotransmitters \\n•\\nTransmitter cannot stay in \\nsynaptic cleft and continue to \\nbind postsynaptic receptors- it \\nmust stop\\n•\\nreuptake by transporters\\n•\\nenzymatic breakdown\\n•\\noxidative breakdown / \\nhydrolysis\\n•\\nPsychoactive drugs target \\nsome reuptake transporters:\\n– Cocaine blocks reuptake \\nof norepinephrine. – Tricyclic antidepressants \\nalso block norepinephrine \\nreuptake transporter. – Antidepressants like \\nProzac block reuptake of \\nserotonin']\n",
      "['BOX 6A  Neurotoxins That Act on Neurotransmitter Receptors\\n•\\nmany plants and animals produce toxins that bind to neurotransmitter receptors\\n•\\nthese have been useful in characterizing many receptors\\n•\\noften they work on AChR, as this affects muscle contraction, e.g. •\\nnicotine (from tobacco) acts on nicotinic AchR\\n•\\nmuscarine (from the poisonous mushroom Amanita) acts on muscarinic AchR\\n•\\narecoline from betel nuts acts like nicotine and also causes euphoria\\n•\\nother toxins target glutamate, GABA, and other receptors\\nMarine Cone Snail\\nBanded Krait\\nBetel nuts']\n",
      "['Each neurotransmitter has a variety of ionotropic and metabotrobic receptors\\n•\\nDO NOT \\nMEMORIZE ALL \\nTHESE! •\\njust appreciate that \\nall the common \\nneurotransmitters \\nhave many different \\nreceptors\\n•\\nboth ionotropic (top) \\nand metabotrobic\\n(bottom)\\n•\\n(note that not all box \\ncolors are consistent \\nfor a given \\ntransmitter above \\nand below)']\n",
      "['FIGURE 6.3 Structure of the nicotinic ACh receptor\\n•\\nnicotinic Ach receptor: a \\nligand-gated, ionotropic \\nreceptor\\n•\\n5 subunits make up the \\nAchR\\n•\\n2 Ach molecules must bind \\nto the α subunits, causing \\na conformational change \\nand pore opening']\n",
      "['FIGURE 6.5 Glutamate synthesis and cycling between neurons and glia \\n•\\nglutamate is most \\nwidespread excitatory \\nneurotransmitter\\n•\\nglutamine both \\nrecycled directly into \\nterminal AND \\nreprocessed through \\nglial cell, then \\nresynthesized']\n",
      "['FIGURE 6.8 Function and structure of the NMDA glutamate receptor\\n•\\none of the ionotropic \\nglutamate receptors \\nplays a special role in \\nsynaptic plasticity: NMDA \\nreceptor\\n•\\nit is ligand-gated but also \\nbehaves differently with \\nmembrane potential\\n•\\nwhen hyperpolarized, \\nblocked by magnesium\\n•\\nthis calls it into action \\nonly with powerful \\nsummed excitatory inputs \\nto the postsynaptic cell \\n(more on this later…)']\n",
      "['Receptor function can be modified\\n•\\nGABA is most widespread inhibitory \\nneurotransmitter\\n•\\nlike other receptors, it is subject to \\nmodification by other influences\\n•\\ncommon drugs that bind to GABA \\nincrease Cl- current, and have \\nsuppressive (inhibitory) effect\\n•\\nactivating it can make you sleepy or \\nunconscious\\n•\\nblocking GABA can cause \\nexcitation, seizures']\n",
      "['Neurotransmitters are not intrinsically\\nexcitatory or inibitory! •\\nit depends on the receptors and on the chemical environment\\n•\\nexample: GABA in immature brain can be excitatory, due to a Cl-\\ntransporter that is only present early in development']\n",
      "['The distribution of biogenic amine neurotransmitters and ACh in the human brain \\n•\\neach of the biogenic amine \\nneurotransmitters, as well as \\nacetylcholine, originates in tiny \\nareas deep in the brain\\n•\\nbut their axons project very widely, \\nincl. throughout cortex\\n•\\nthis gives them huge power to \\nmodulate brain state and behavior \\n(learning, mood, attention, reward, \\netc)\\nNeurotransmitter\\nOrigin (cell bodies)\\nDopamine\\nSubstantia Nigra and VTA\\nNorepinephrine\\nLocus ceoruleus\\nEpinephrine (adrenaline)\\nMedulla\\nHistamine\\nHypothalamus\\nSerotonin\\nRaphe Nuclei\\nAcetylcholine\\nBasal forebrain']\n",
      "['Atypical neurotransmitters: Endocannabinoids and Nitric Oxide\\n•\\nendocannabinoids (such as 2-Arachidonoylglycerol (2-AG) and anandamide) act \\nretrogradely (from postsynaptic to presynaptic, e.g. CB1 receptor)\\n•\\nmodulate synaptic transmission of other neurotransmitters such as glutamate or \\nGABA\\n•\\nin contrast, nitric oxide is a gas that can \\ndiffuse out and affect intracellular signaling \\nwithin many other neurons! postsynaptic cell\\n(presynaptic)']\n",
      "['https://www.hopkinsmedicine.org/health/wellnes\\ns-and-prevention/the-truth-behind-runners-\\nhigh-and-other-mental-benefits-of-running\\n“runner’s high” once thought to be due to \\nendorphins (neuropeptides), which \\nmodulate pain\\nnow that relaxed feeling is more closely \\nassociated with endocannabinoids \\n(at least in running mice)\\nas if we needed ANOTHER reason to \\nexercise…\\nNEURONEWS! ….Exciting tales from popular neurobiology today\\nWHY SMOKE WEED WHEN YOU CAN EXERCISE?! media: https://www.runnersworld.com']\n",
      "['Outline\\nCh.6 Neurotransmitters and Receptors\\n• types, modes of action, and removal\\n• examples of ionotropic, metabotropic receptors\\n• atypical neurotransmitters\\nCh.7 Molecular Signaling\\n• categories of signaling\\n• G-protein-coupled signaling (e.g. metabotropic \\nreceptors)\\n• making new proteins via CREB']\n",
      "['FIGURE 7.1 Chemical signaling between cells \\n•\\nchemical signaling occurs \\nbetween cells over multiple \\nspatial scales\\n•\\nbut shares the same order \\nof events/mechanisms']\n",
      "['FIGURE 7.4 Categories of cellular receptors\\ne.g. Ligand-gated \\nreceptor\\ne.g. Metabotropic \\nreceptor']\n",
      "['FIGURE 7.8 Regulation of cellular proteins by phosphorylation \\n•\\na key action in many signaling pathways is phosphorylation\\n•\\nATP or GTP can donate a phosphate group to become ADP or GDP\\n•\\nphosphorylation rapidly and reversibly changes protein function (a kind of \\npost-translational modification)\\n•\\nkinases add phosphate groups; phosphatases remove them\\n•\\nit’s so important that 3% of our genes are for kinases and phosphatases!']\n",
      "['A Generic GTP-binding protein (e.g. metabotropic neurotransmitter receptor) \\n. . .']\n",
      "['FIGURE 7.6 Effector pathways associated with G-protein-coupled receptors \\n•\\ntypical G-protein-coupled \\nreceptor signaling\\n•\\ne.g. phosphorylation opens \\nup ion channels (in which \\ncase this would be a \\nmetabotropic receptor)']\n",
      "['FIGURE 7.2 Amplification in signal transduction pathways']\n",
      "['FIGURE 7.12 Transcriptional regulation by CREB: making new PROTEINS (ion channels, etc)\\nCREB = cAMP\\nResponse Element \\nBinding Protein\\nWant to make lasting \\nchange in a neuron? •\\n\\uf0e0need new proteins! e.g. Neurotrophins\\n(NGF)\\ne.g. voltage gated or \\nionotropic receptor\\ne.g. metabotropic \\nreceptor']\n"
     ]
    }
   ],
   "source": [
    "\n",
    "for page in doc2:\n",
    "  text = page.get_text()\n",
    "  print(chunk_text(text))"
   ]
  },
  {
   "cell_type": "code",
   "execution_count": 39,
   "id": "fc39ab26",
   "metadata": {},
   "outputs": [
    {
     "name": "stdout",
     "output_type": "stream",
     "text": [
      "['STARTED WITH BAT IN \\nCLASS CHART']\n",
      "['Barn Owl \\nSound \\nLocalization\\nGreat grayowlmovie (North\\nwesternCanada)']\n",
      "['https://www.youtube.com/watch?v=Y-1d5zdeg9A\\n4:29-8:28']\n",
      "['Barn Owl \\nSound \\nLocalization\\nGreat grayowlmovie (North\\nwesternCanada)\\nOutline: Lecture 6\\nAuditory Detection:\\n1. History\\n2. Defining Azimuth vs Elevation\\n3. Intensity cues\\n•\\nears and ruff\\n•\\nIID: Interaural intensity difference\\n3. Timing cues\\n•\\nleft and right ear\\n•\\nITD: Interaural time difference \\nNeural pathway:']\n",
      "['Barn Owl \\nSound \\nLocalization\\nGreat grayowlmovie (North\\nwesternCanada)\\nOutline: Lecture 6\\nAuditory Detection:\\n1. History\\n2. Defining Azimuth vs Elevation\\n3. Intensity cues\\n•\\nears and ruff\\n•\\nIID: Interaural intensity difference\\n4. Timing cues\\n•\\nleft and right ear\\n•\\nITD: Interaural time difference \\nNeural pathway:']\n",
      "['Royer Paine’s Experiments \\n(1950/60s)\\n• He studied whether sound or vision \\nwas utilized by barn owls while \\nhunting. • Exp 1: He had a dark room, with leaves \\non the ground and mice running. →\\nGreat targeting. • Exp 2: He had a piece of crumbled \\npaper and moved it around with a \\nstring (everything else quiet)→Owls \\ntargeted the paper. • Exp 3: Mouse running on a clear floor \\ndragging paper crumble with a string \\non their tail →The Owl targeted the \\npaper. Owls use Passive Listening.']\n",
      "['The Barn Owl As a Model System\\n• Barn owl is known to hunt in the \\nnight. • Its preferred pray are field mice, \\nwhich tend to hide under leaves \\nor in tunnels. (thus vision not as \\nuseful probably). • Hearing range: 100Hz-12kHz. (localization uses 5-9kHz)\\n• First Step in Hunting is Orienting \\nthe Head towards the location \\nof the prey. [SACCADE]']\n",
      "['Locating the Target\\n• To locate its target, the owl \\nneeds three sets of information: \\n• Azimuth (horizontal plane)\\n• Elevation (vertical plane)\\n• Distance\\n• Barn owl can locate sound \\nwithin one of two degrees in \\nboth the azimuth and elevation. • The error range ~9cm, roughly \\nthe size of a mouse.']\n",
      "['Barn Owl \\nSound \\nLocalization\\n• Great grayowlmovie (North\\nwesternCanada)\\nOutline: Lecture 6\\nAuditory Detection:\\n1. History\\n2. Defining Azimuth vs Elevation\\n3. Intensity cues\\n•\\nears and ruff\\n•\\nIID: Interaural intensity difference\\n4. Timing cues\\n•\\nleft and right ear\\n•\\nITD: Interaural time difference \\nNeural pathway:']\n",
      "['Eric I. Knudsen\\nMasakazu (Mark) Konishi\\nEric Knudsen']\n",
      "['Experimental Protocol\\n• Owls are trained to stand on a perch in a soundproof chamber. • Each time they turn their head in response to a sound stimulus, they are \\nrewarded with a small piece of meat. •\\n“Zeroing speaker”: Stationary used \\nto focus/align the head. •\\n“Target Speaker” can be moved in \\nhorizontal & vertical plane. •\\nElectromagnetic Angle-Detector \\nSystem:\\n•\\n“Search coil” on bird’s head (2 \\nperpendicular copper wire)\\n•\\nPlaced in magnetic field \\n(within 2 induction coils)\\n•\\nHead movement induces \\ncurrent in the search coil, \\nindicating head position']\n",
      "['Barn Owl Ears Are Asymmetrical\\n• Right ear is lower and its opening & \\ntrough are directed upward – more \\nsensitive to sounds above\\n• Left ear is higher and its opening & \\ntrough are directed downward –\\nmore sensitive to sounds below. Small feathers removed from \\nthe ruff, ears still hidden by \\nthe pre-aural flaps\\nLeft ear\\nRight ear']\n",
      "['• To determine the role of ears, \\neither the right or the left ear \\nof the owl was plugged to \\nattenuate sound in that ear. • Soft plug: modestly reduce the \\nsound intensity. • Hard plug: severely attenuate \\nsound\\nStudying the Role of the Ears in \\nSound Localization\\nAzimuth\\nElevation\\n➔Sound intensities provide information about sound ELEVATION.']\n",
      "[\"Studying the Role Owl Facial \\nFeathers in Sound localization\\n• A facial ruff (a ring of stiff \\n& tightly packed \\nfeathers) form a curved \\nwall around an owl's face \\nthat acts like a reflector \\nfor sound. • The ruff are a \\nspecialization for the \\nperception of sound (like \\nour pinnae)\\nFacial ruff \\nEars are hidden \\nby the feathers.\"]\n",
      "['Class Question:\\nHow would you study if \\nthe ruff feathers are \\nimportant?']\n",
      "[\"Are Ruff Feathers important for \\nsound localization? • Experiment:\\n• Remove the owl's facial ruff feathers \\n• Target: A 75 ms wide-band noise burst \\n(bandpass=0.8 to 12 kHz) at 30-50 dB SPL at \\ndifferent positions. Location indicated by the \\n“sun” symbol. • The magnitude and direction of error is \\nrepresented by the arrows. • What is impacted here? • Elevation ? ?? • Azimuth?? • Both ? ? ?\"]\n",
      "[\"Are Ruff Feathers important for \\nsound localization? • Experiment:\\n• Remove the owl's facial ruff feathers \\n• Target: A 75 ms wide-band noise burst \\n(bandpass=0.8 to 12 kHz) at 30-50 dB SPL at \\ndifferent positions. Location indicated by the \\n“sun” symbol. • The magnitude and direction of error is \\nrepresented by the arrows. • Why do we not see huge errors? • The owl still received some elevation \\ninformation from the ear asymmetry.\"]\n",
      "[\"Are Ruff Feathers important for \\nsound localization? • Experiment:\\n• Remove the owl's facial ruff feathers \\n• Target: A 75 ms wide-band noise burst \\n(bandpass=0.8 to 12 kHz) at 30-50 dB SPL at \\ndifferent positions. Location indicated by the \\n“sun” symbol. • The magnitude and direction of error is \\nrepresented by the arrows. • Conclusion:\\n• Ruff amplify the directional asymmetry of \\nthe ears. Without the ruff, the owl is no \\nlonger capable of accurate elevation \\ndetermination.\"]\n",
      "['Interaural Intensity \\nDifference (IID)\\n• Interaural Intensity Difference. • Sometimes also called Interaural Level \\nDifference (ILD)\\n• Provides information about the Elevation \\n(Vertical) Location of the Target. • When the sound is louder on the:\\n• right ear →Sound is coming from above\\n• left ear →Sound is coming from below. • Right ear is slightly lower and oriented \\nupwards (opposite form left)\\n• The highly reflection facial ruff amplifies \\nthe directional asymmetry of the ears, \\naiding in IID']\n",
      "['Barn Owl \\nSound \\nLocalization\\n• Great grayowlmovie (North\\nwesternCanada)\\nOutline: Lecture 6\\nAuditory Detection:\\n1. History\\n2. Defining Azimuth vs Elevation\\n3. Intensity cues →ELEVATION\\n•\\nears and ruff\\n•\\nIID: Interaural intensity difference\\n4. Timing cues\\n•\\nleft and right ear\\n•\\nITD: Interaural time difference \\nNeural pathway:']\n",
      "['Sources of Timing Information\\n• Two possible sources of timing information:\\n• Transient disparity →differences in sound beginning and end. • Ongoing disparity →differences in sound arrival times throughout \\nthe duration of the sound. Offset Disparity\\nOnset Disparity\\nRight Ear\\nLeft Ear\\nTime\\nOngoing Disparity']\n",
      "['Studying the Sources of Timing\\n• Experiments by Moiseff and Konishi\\n• They implanted miniature speakers in the owls ear canals (both). • They can now present sounds independently to each of the ears \\nand manipulate arrival timing / sound start, for example. • Artificially eliminated the transient disparities and intensity \\ndifferences, while systemically varying the ongoing disparities. Right \\nEar\\nLeft \\nEar\\nTime\\nOngoing \\nDisparity']\n",
      "['Owls use the ongoing disparities to \\nlocalize sound in the azimuth plane\\n• Miniature speakers planted in the owls ear canals. • Artificially eliminated the transient disparities and intensity \\ndifferences, while systemically varying the ongoing disparities. • The owls correctly oriented \\ntheir heads towards the \\ntheoretical position of the \\nobject in the horizontal plane. • Ongoing disparities are \\nsufficient for correct azimuth \\nlocation\\nThe X-axis \\nshows the \\nactual ongoing \\ntime disparity \\nin the stimuli\\nThe Y-axis \\nshows the \\nhead turn \\ndirection']\n",
      "['Reciprocal Experiment:\\n• Miniature speakers planted in the owls ear canals. • Artificially kept the transient disparities but eliminated any \\nintensity and ongoing disparities. • The owls failed to orient correctly in \\nthe horizontal plane. • Ongoing disparities are necessary for \\ncorrect azimuth location']\n",
      "['Interaural Time \\nDifference\\n• Interaural Time Difference. • Provides information about the Azimuth \\n(Horizontal) Location of the Target . • Temporal Disparity: difference in arrival \\ntime of a sound to the two ears']\n",
      "['Combining the Maps\\nCombined Maps\\nAzimuth determined by ITD \\n– ongoing disparity\\nElevation determined by \\nILD']\n",
      "['Owls are Very Silent Fliers\\nhttps://www.youtube.com/watch?v=Y-1d5zdeg9A\\n8:32-12:27']\n",
      "['Barn Owl \\nSound \\nLocalization\\n• Great grayowlmovie (North\\nwesternCanada)\\nOutline: Lecture 6\\nAuditory Detection:\\n1. History\\n2. Defining Azimuth vs Elevation\\n3. Intensity cues →ELEVATION\\n•\\nears and ruff\\n•\\nIID: Interaural intensity difference\\n4. Timing cues →AZIMUTH\\n•\\nleft and right ear\\n•\\nITD: Interaural time difference \\nNeural pathway: Focus on Inferior \\nColliculus']\n",
      "['Inferior \\nColliculus \\n(Spatial Map)\\nTiming \\nInformation\\nIntensity \\nInformation']\n",
      "['Remembering Inferior Colliculus \\nin Humans\\n• In Humans it is an important part \\nof the sound pathway. • It is located in the midbrain. • It is involved in the integration \\nand routing of auditory and \\nmultimodal information. • It has three subdivisions:\\n• the central nucleus,\\n• a dorsal cortex\\n• an external cortex']\n",
      "['Remembering the Inferior Colliculus \\nin Bats\\n• Midbrain auditory structure. • Neurons are very sensitive to \\nsound timing. • Seems to be divided in 3 \\nareas. • They accurately represent the \\ntiming of pulse and echo, thus \\npreserving delay information \\nfor the analysis by other \\nareas.']\n",
      "['Inferior Colliculus in Owls\\n• An area of the Inferior Colliculus has been shown to \\nhave space specific neurons: the ICX\\n• The inferior colliculus (again) \\nis divided into three main \\nregions:\\n• ICC core: core of the central \\nnucleus of the IC\\n• ICX: IC external nucleus of the \\nIC\\n• ICCls : lateral shell of the \\ncentral nucleus of the IC']\n",
      "['External Nucleus of IC\\n• Topographic map. • The neurons in the ICX are space-specific; they only respond to natural \\nsound coming from a well-defined region of real-world space.']\n",
      "['Properties of ICX Neurons\\n• Neurons are exclusively Binaural and tuned to a unique combination of ITDs and ILDs \\n(Do not respond to either ear alone)\\n• In the example neuron shown below, the neuron fires most when the sound is \\ncoming 10 degrees off center on the horizontal plane.']\n",
      "['Properties of ICX Neurons\\n• Both the time difference and the intensity difference MUST \\nfall within the range to which the neuron is normally tuned \\nfor the neuron to respond. • The correct time \\ndifference (or the \\nintensity difference) \\nalone is not \\nsufficient for a \\nresponse.']\n",
      "['Space-specific neurons are \\narranged in an orderly “map”\\nIsoazimuth contours shown \\nas dashed lines\\nIsoazimuth contours \\nare solid\\nIsoelevation contours \\nare dashed\\nIsoelevation contours \\nare dashed\\nTransverse\\nSagittal\\nSagittal\\nHorizontal\\nTransverse\\nHorizontal\\nCentral areas of \\nthe space field \\nare over-\\nrepresented']\n",
      "['If there is time…']\n",
      "['Barn Owl \\nSound \\nLocalization\\n• Great grayowlmovie (North\\nwesternCanada)\\nOutline: Lecture 4-5\\n“Neural processing of \\nsensory information”\\nNeural Pathway\\nHow are Azimuth and Elevation information \\nprocessed in the brain\\n1. How do Space Specific Neurons Receive \\ninformation about ITD and ILD?']\n",
      "['Major anatomical structures of \\nsound localization\\nLeft \\nInput']\n",
      "['How do the space-specific \\nneurons receive ITD and ILD info? ILD\\nITD\\nSpace-specific neurons (ICX)\\nrespond only to a sound originating \\nin a particular region of a space']\n",
      "['Peripheral Auditory System\\n• Sound enters the ear and stimulates the \\neardrum. • This leads to the same auditory response \\nmechanisms known in mammals. • Activation of the Hair cells leads to the firing \\nof action potentials in the auditory nerve \\nleaving the cochlea. • Auditory nerve goes to ipsilateral cochlea \\nNucleus consisting of:\\n• Angular Nucleus\\n• Intensity tuning & Tonotopy\\n• Magnocellular Nucleus →Timing\\n• Neurons show Phase-Locking & Tonotopy']\n",
      "['How do the space-specific \\nneurons receive ITD and ILD info? Space-specific neurons (ICX)\\nMagnocellular \\nnucleus\\nAngular \\nnucleus\\nILD\\nITD']\n",
      "['Space-specific neurons (ICX)\\nMagnocellular \\nnucleus\\nAngular \\nnucleus\\nILD\\nITD\\nHYPOTHESIS: \\nITD and ILD info are processed independently \\nin separate (parallel) pathways\\nIs this hypothesis correct? YES or NO']\n",
      "['Experiments:\\n1. Anesthetize of Magnocellular cells (lidocaine)\\n2. Examine the response of space-specific neurons \\nSpace-specific neurons (ICX)\\nMagnocellular \\nnucleus\\nAngular \\nnucleus\\nILD\\nITD\\nBlock the \\nfunction\\nNote: Anesthesia effect \\nfrom a single injection \\nlasted ~10-15 min']\n",
      "['The effect of anesthetizing \\nMagnocellular nucleus\\non a space-specific cell\\nPre-injection\\nSpace-specific neurons (ICX)\\nMagnocellular \\nnucleus\\nAngular \\nnucleus\\nILD\\nITD\\n0 min after the injection\\n6 min after the injection\\n11.5 min after the injection\\n18 min after the injection\\nPre-injection\\n2 min after the injection\\n8 min after the injection\\n13 min after the injection\\n20 min after the injection\\nControl\\nExperiment \\nTakahashi et al., J of Neuroscience (1984)']\n",
      "['Think – Pair - Write\\n• After Discussion with your group:\\n• Each person submits the assignment (can be equal answer for all group \\nmembers)\\n• Come up with a 1-2 sentences description of the results. • Come up with a one sentence description of the conclusion. • Submit on CANVAS Individually.']\n",
      "['My Version\\n• Come up with a 1-2 sentences description of the results. Anesthetizing the magnocellular cells resulted in an initial widening of the \\nITD tuning curve and then a shift where there were 2 peaks of maximal \\nresponse. By 11 min, the tuning curve shap was back to normal, but the \\npeak tuning was slightly right shifted. By 15 min, the tuning had returned \\nto normal. No large changes were observed in the response to IID. • Come up with a one sentence description of the conclusion. From these results one can conclude that the magnocellular nucleus is necessary \\nfor the ITD tuning in ICX but does not seem involved in this area’s IID tuning.']\n",
      "['The Author’s Description of \\nResults\\n• Before lidocaine injection, the cell responded maximally when the stimulus was \\npresented to the ears simultaneously (ITD = 0 µsec). Its spike count was halved if \\nthe sound in either ear led by 15 µsec (half-maximal width= 30 µsec). • Upon injecting lidocaine (200 nl) (t = 0 min), the spike count versus ITD curve \\nbroadened and shifted to the right, the side of the anesthetized nucleus \\nmagnocellularis. That is, the most effective ITD changed to 15 µsec (right ear \\nleading), and the cell became less selective (half-maximal width = 72 µsec). The \\ncell also became responsive to 75 µsec (left ear leading), an ITD that was \\noriginally ineffective. Six minutes later, a peak at 75 µsec (left ear leading) and a \\npeak at 60 µsec (right ear leading) were observed (t = 6 min). • Over the next 12 min, the cell first became less responsive at 75 µsec (left ear \\nleading), then regained its selectivity to the original ITD (top row, t = 11.5 to 18 \\nmin). Except for a slight sharpening, the spike count versus ITD curve remained \\nunchanged (bottom row).']\n",
      "['Space-specific neurons (ICX)\\nMagnocellular \\nnucleus\\nAngular \\nnucleus\\nILD\\nITD\\nExperiments:\\n1. Anesthetize of Angular nucleus (lidocaine)\\n2. Examine the response of space-specific neurons \\nBlock the \\nfunction\\nNote: Anesthesia effect \\nfrom a single injection \\nlasted ~10-15 min']\n",
      "['The effect of anesthetizing \\nAngular nucleus\\non a space-specific cell\\nSpace-specific neurons (ICX)\\nMagnocellular \\nnucleus\\nAngular \\nnucleus\\nILD\\nITD\\nPre-injection\\n3 min after the injection\\n8.5 min after the injection\\n20 min after the injection\\nPre-injection\\n0 min after the injection\\n6 min after the injection\\n15 min after the injection\\nControl\\nExperiment \\nTakahashi et al., J of Neuroscience (1984)']\n",
      "['Space-specific neurons (ICX)\\nMagnocellular \\nnucleus\\nAngular \\nnucleus\\nILD\\nITD\\nCONCLUSION: \\nITD and ILD info are independently \\nprocessed MN and AN, respectively.']\n"
     ]
    }
   ],
   "source": [
    "\n",
    "for page in doc3:\n",
    "  text = page.get_text()\n",
    "  print(chunk_text(text))"
   ]
  }
 ],
 "metadata": {
  "kernelspec": {
   "display_name": "Python 3",
   "language": "python",
   "name": "python3"
  },
  "language_info": {
   "codemirror_mode": {
    "name": "ipython",
    "version": 3
   },
   "file_extension": ".py",
   "mimetype": "text/x-python",
   "name": "python",
   "nbconvert_exporter": "python",
   "pygments_lexer": "ipython3",
   "version": "3.10.12"
  }
 },
 "nbformat": 4,
 "nbformat_minor": 5
}
